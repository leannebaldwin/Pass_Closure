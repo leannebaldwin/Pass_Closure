{
 "cells": [
  {
   "cell_type": "code",
   "execution_count": 139,
   "metadata": {},
   "outputs": [],
   "source": [
    "import pandas as pd\n",
    "import numpy as np\n",
    "import pymongo\n",
    "from pymongo import MongoClient\n",
    "import prediction\n",
    "from pipeline_classes import Featurizer\n",
    "from matplotlib.backends.backend_agg import FigureCanvasAgg as FigureCanvas\n",
    "from matplotlib.figure import Figure\n",
    "import mpld3\n",
    "from datetime import datetime as dt"
   ]
  },
  {
   "cell_type": "code",
   "execution_count": 3,
   "metadata": {
    "collapsed": true
   },
   "outputs": [],
   "source": [
    "client = MongoClient('localhost', 27017)\n",
    "db = client.Snoqualmie\n",
    "pass_closure = db.docs"
   ]
  },
  {
   "cell_type": "code",
   "execution_count": 9,
   "metadata": {
    "collapsed": true
   },
   "outputs": [],
   "source": [
    "def get_pred():\n",
    "    \"\"\"Get the predictions and data to display\"\"\"\n",
    "    #pass_closure = mongo.db.docs\n",
    "    output = []\n",
    "    data = pass_closure.find()\n",
    "    for row in data:\n",
    "        pred = round(prediction.get_one_prediction(row), 2)\n",
    "        output.append({'date' : row['date'],  'probability': pred})\n",
    "    return output"
   ]
  },
  {
   "cell_type": "code",
   "execution_count": 15,
   "metadata": {},
   "outputs": [
    {
     "name": "stdout",
     "output_type": "stream",
     "text": [
      "{'_id': ObjectId('5c086b116711dbee64b4b99c'), 'date': datetime.datetime(2018, 12, 5, 0, 0), 'temp': 15.0, 'precipitation': 0, 'windy': 1, 'overcast': 0, 'poor_visibility': 0}\n",
      "{'_id': ObjectId('5c086b116711dbee64b4b99d'), 'date': datetime.datetime(2018, 12, 6, 0, 0), 'temp': 20.0, 'precipitation': 0, 'windy': 1, 'overcast': 0, 'poor_visibility': 0}\n",
      "{'_id': ObjectId('5c086b116711dbee64b4b99e'), 'date': datetime.datetime(2018, 12, 7, 0, 0), 'temp': 23.0, 'precipitation': 0, 'windy': 0, 'overcast': 0, 'poor_visibility': 0}\n",
      "{'_id': ObjectId('5c086b116711dbee64b4b99f'), 'date': datetime.datetime(2018, 12, 8, 0, 0), 'temp': 25.0, 'precipitation': 0, 'windy': 0, 'overcast': 0, 'poor_visibility': 0}\n",
      "{'_id': ObjectId('5c086b116711dbee64b4b9a0'), 'date': datetime.datetime(2018, 12, 9, 0, 0), 'temp': 26.0, 'precipitation': 1, 'windy': 0, 'overcast': 1, 'poor_visibility': 1}\n",
      "{'_id': ObjectId('5c086b116711dbee64b4b9a1'), 'date': datetime.datetime(2018, 12, 10, 0, 0), 'temp': 28.0, 'precipitation': 1, 'windy': 0, 'overcast': 1, 'poor_visibility': 1}\n",
      "{'_id': ObjectId('5c086b116711dbee64b4b9a2'), 'date': datetime.datetime(2018, 12, 11, 0, 0), 'temp': 30.0, 'precipitation': 1, 'windy': 0, 'overcast': 1, 'poor_visibility': 1}\n",
      "{'_id': ObjectId('5c086b116711dbee64b4b9a3'), 'date': datetime.datetime(2018, 12, 12, 0, 0), 'temp': 28.5, 'precipitation': 1, 'windy': 0, 'overcast': 1, 'poor_visibility': 1}\n",
      "{'_id': ObjectId('5c086b116711dbee64b4b9a4'), 'date': datetime.datetime(2018, 12, 13, 0, 0), 'temp': 27.5, 'precipitation': 1, 'windy': 0, 'overcast': 1, 'poor_visibility': 1}\n",
      "{'_id': ObjectId('5c086b116711dbee64b4b9a5'), 'date': datetime.datetime(2018, 12, 14, 0, 0), 'temp': 25.5, 'precipitation': 1, 'windy': 0, 'overcast': 1, 'poor_visibility': 1}\n",
      "{'_id': ObjectId('5c086b116711dbee64b4b9a6'), 'date': datetime.datetime(2018, 12, 15, 0, 0), 'temp': 26.5, 'precipitation': 1, 'windy': 0, 'overcast': 1, 'poor_visibility': 1}\n",
      "{'_id': ObjectId('5c086b116711dbee64b4b9a7'), 'date': datetime.datetime(2018, 12, 16, 0, 0), 'temp': 27.0, 'precipitation': 1, 'windy': 0, 'overcast': 1, 'poor_visibility': 1}\n",
      "{'_id': ObjectId('5c086b116711dbee64b4b9a8'), 'date': datetime.datetime(2018, 12, 17, 0, 0), 'temp': 27.5, 'precipitation': 1, 'windy': 0, 'overcast': 1, 'poor_visibility': 1}\n",
      "{'_id': ObjectId('5c086b116711dbee64b4b9a9'), 'date': datetime.datetime(2018, 12, 18, 0, 0), 'temp': 28.0, 'precipitation': 1, 'windy': 0, 'overcast': 1, 'poor_visibility': 1}\n",
      "{'_id': ObjectId('5c086b116711dbee64b4b9aa'), 'date': datetime.datetime(2018, 12, 19, 0, 0), 'temp': 27.5, 'precipitation': 1, 'windy': 0, 'overcast': 1, 'poor_visibility': 1}\n"
     ]
    }
   ],
   "source": [
    "output = pass_closure.find()\n",
    "for doc in output:\n",
    "    print(doc)"
   ]
  },
  {
   "cell_type": "code",
   "execution_count": 37,
   "metadata": {},
   "outputs": [
    {
     "name": "stdout",
     "output_type": "stream",
     "text": [
      "                 date  overcast  poor_visibility  precipitation  temp  windy\n",
      "date                                                                        \n",
      "2018-12-05 2018-12-05         0                0              0  15.0      1\n",
      "0   2018-12-05\n",
      "Name: date, dtype: datetime64[ns]\n",
      "   year  month  day  dayofweek_Wednesday\n",
      "0  2018     12    5                    1\n",
      "                 date  overcast  poor_visibility  precipitation  temp  windy\n",
      "date                                                                        \n",
      "2018-12-06 2018-12-06         0                0              0  20.0      1\n",
      "0   2018-12-06\n",
      "Name: date, dtype: datetime64[ns]\n",
      "   year  month  day  dayofweek_Thursday\n",
      "0  2018     12    6                   1\n",
      "                 date  overcast  poor_visibility  precipitation  temp  windy\n",
      "date                                                                        \n",
      "2018-12-07 2018-12-07         0                0              0  23.0      0\n",
      "0   2018-12-07\n",
      "Name: date, dtype: datetime64[ns]\n",
      "   year  month  day  dayofweek_Friday\n",
      "0  2018     12    7                 1\n",
      "                 date  overcast  poor_visibility  precipitation  temp  windy\n",
      "date                                                                        \n",
      "2018-12-08 2018-12-08         0                0              0  25.0      0\n",
      "0   2018-12-08\n",
      "Name: date, dtype: datetime64[ns]\n",
      "   year  month  day  dayofweek_Saturday\n",
      "0  2018     12    8                   1\n",
      "                 date  overcast  poor_visibility  precipitation  temp  windy\n",
      "date                                                                        \n",
      "2018-12-09 2018-12-09         1                1              1  26.0      0\n",
      "0   2018-12-09\n",
      "Name: date, dtype: datetime64[ns]\n",
      "   year  month  day  dayofweek_Sunday\n",
      "0  2018     12    9                 1\n",
      "                 date  overcast  poor_visibility  precipitation  temp  windy\n",
      "date                                                                        \n",
      "2018-12-10 2018-12-10         1                1              1  28.0      0\n",
      "0   2018-12-10\n",
      "Name: date, dtype: datetime64[ns]\n",
      "   year  month  day  dayofweek_Monday\n",
      "0  2018     12   10                 1\n",
      "                 date  overcast  poor_visibility  precipitation  temp  windy\n",
      "date                                                                        \n",
      "2018-12-11 2018-12-11         1                1              1  30.0      0\n",
      "0   2018-12-11\n",
      "Name: date, dtype: datetime64[ns]\n",
      "   year  month  day  dayofweek_Tuesday\n",
      "0  2018     12   11                  1\n",
      "                 date  overcast  poor_visibility  precipitation  temp  windy\n",
      "date                                                                        \n",
      "2018-12-12 2018-12-12         1                1              1  28.5      0\n",
      "0   2018-12-12\n",
      "Name: date, dtype: datetime64[ns]\n",
      "   year  month  day  dayofweek_Wednesday\n",
      "0  2018     12   12                    1\n",
      "                 date  overcast  poor_visibility  precipitation  temp  windy\n",
      "date                                                                        \n",
      "2018-12-13 2018-12-13         1                1              1  27.5      0\n",
      "0   2018-12-13\n",
      "Name: date, dtype: datetime64[ns]\n",
      "   year  month  day  dayofweek_Thursday\n",
      "0  2018     12   13                   1\n",
      "                 date  overcast  poor_visibility  precipitation  temp  windy\n",
      "date                                                                        \n",
      "2018-12-14 2018-12-14         1                1              1  25.5      0\n",
      "0   2018-12-14\n",
      "Name: date, dtype: datetime64[ns]\n",
      "   year  month  day  dayofweek_Friday\n",
      "0  2018     12   14                 1\n",
      "                 date  overcast  poor_visibility  precipitation  temp  windy\n",
      "date                                                                        \n",
      "2018-12-15 2018-12-15         1                1              1  26.5      0\n",
      "0   2018-12-15\n",
      "Name: date, dtype: datetime64[ns]\n",
      "   year  month  day  dayofweek_Saturday\n",
      "0  2018     12   15                   1\n",
      "                 date  overcast  poor_visibility  precipitation  temp  windy\n",
      "date                                                                        \n",
      "2018-12-16 2018-12-16         1                1              1  27.0      0\n",
      "0   2018-12-16\n",
      "Name: date, dtype: datetime64[ns]\n",
      "   year  month  day  dayofweek_Sunday\n",
      "0  2018     12   16                 1\n",
      "                 date  overcast  poor_visibility  precipitation  temp  windy\n",
      "date                                                                        \n",
      "2018-12-17 2018-12-17         1                1              1  27.5      0\n",
      "0   2018-12-17\n",
      "Name: date, dtype: datetime64[ns]\n",
      "   year  month  day  dayofweek_Monday\n",
      "0  2018     12   17                 1\n",
      "                 date  overcast  poor_visibility  precipitation  temp  windy\n",
      "date                                                                        \n",
      "2018-12-18 2018-12-18         1                1              1  28.0      0\n",
      "0   2018-12-18\n",
      "Name: date, dtype: datetime64[ns]\n",
      "   year  month  day  dayofweek_Tuesday\n",
      "0  2018     12   18                  1\n",
      "                 date  overcast  poor_visibility  precipitation  temp  windy\n",
      "date                                                                        \n",
      "2018-12-19 2018-12-19         1                1              1  27.5      0\n",
      "0   2018-12-19\n",
      "Name: date, dtype: datetime64[ns]\n",
      "   year  month  day  dayofweek_Wednesday\n",
      "0  2018     12   19                    1\n"
     ]
    }
   ],
   "source": [
    "output = pass_closure.find()\n",
    "result = []\n",
    "for row in output:\n",
    "    df = pd.DataFrame([row])\n",
    "    df.drop(['_id'], axis=1, inplace=True)\n",
    "    df.index = df.date\n",
    "    date_column = pd.Series(df.index)\n",
    "    month_day_of_week = pd.DataFrame({\"year\": date_column.dt.year,\n",
    "                                    \"month\": date_column.dt.month, \n",
    "                                    \"day\": date_column.dt.day,\n",
    "                                    \"dayofweek\": date_column.dt.dayofweek})\n",
    "    month_day_of_week.dayofweek[month_day_of_week.dayofweek == 0] = 'Monday'\n",
    "    month_day_of_week.dayofweek[month_day_of_week.dayofweek == 1] = 'Tuesday'\n",
    "    month_day_of_week.dayofweek[month_day_of_week.dayofweek == 2] = 'Wednesday'\n",
    "    month_day_of_week.dayofweek[month_day_of_week.dayofweek == 3] = 'Thursday'\n",
    "    month_day_of_week.dayofweek[month_day_of_week.dayofweek == 4] = 'Friday'\n",
    "    month_day_of_week.dayofweek[month_day_of_week.dayofweek == 5] = 'Saturday'\n",
    "    month_day_of_week.dayofweek[month_day_of_week.dayofweek == 6] = 'Sunday'\n",
    "    month_day_of_week = pd.get_dummies(month_day_of_week)\n",
    "    print(df)\n",
    "    print(date_column)\n",
    "    print(month_day_of_week)"
   ]
  },
  {
   "cell_type": "code",
   "execution_count": 23,
   "metadata": {},
   "outputs": [
    {
     "data": {
      "text/plain": [
       "<pymongo.cursor.Cursor at 0x10eb62470>"
      ]
     },
     "execution_count": 23,
     "metadata": {},
     "output_type": "execute_result"
    }
   ],
   "source": [
    "output"
   ]
  },
  {
   "cell_type": "code",
   "execution_count": 77,
   "metadata": {
    "collapsed": true
   },
   "outputs": [],
   "source": [
    "def get_pred():\n",
    "    \"\"\"Get the predictions and data to display\"\"\"\n",
    "    #pass_closure = mongo.db.docs\n",
    "    output = []\n",
    "    data = pass_closure.find()\n",
    "    df = pd.DataFrame(list(data))\n",
    "    df.drop(['_id'], axis=1, inplace=True)\n",
    "    predictions = prediction.get_predictions(df)\n",
    "    df['predictions'] = predictions[:,1]\n",
    "    df = df.round(2)\n",
    "    return df.loc[:, ['date', 'predictions']] "
   ]
  },
  {
   "cell_type": "code",
   "execution_count": 163,
   "metadata": {},
   "outputs": [],
   "source": [
    "output = get_pred()"
   ]
  },
  {
   "cell_type": "code",
   "execution_count": 164,
   "metadata": {},
   "outputs": [
    {
     "data": {
      "text/html": [
       "<div>\n",
       "<style scoped>\n",
       "    .dataframe tbody tr th:only-of-type {\n",
       "        vertical-align: middle;\n",
       "    }\n",
       "\n",
       "    .dataframe tbody tr th {\n",
       "        vertical-align: top;\n",
       "    }\n",
       "\n",
       "    .dataframe thead th {\n",
       "        text-align: right;\n",
       "    }\n",
       "</style>\n",
       "<table border=\"1\" class=\"dataframe\">\n",
       "  <thead>\n",
       "    <tr style=\"text-align: right;\">\n",
       "      <th></th>\n",
       "      <th>date</th>\n",
       "      <th>predictions</th>\n",
       "    </tr>\n",
       "  </thead>\n",
       "  <tbody>\n",
       "    <tr>\n",
       "      <th>0</th>\n",
       "      <td>2018-12-10</td>\n",
       "      <td>0.26</td>\n",
       "    </tr>\n",
       "    <tr>\n",
       "      <th>1</th>\n",
       "      <td>2018-12-11</td>\n",
       "      <td>0.14</td>\n",
       "    </tr>\n",
       "    <tr>\n",
       "      <th>2</th>\n",
       "      <td>2018-12-12</td>\n",
       "      <td>0.08</td>\n",
       "    </tr>\n",
       "    <tr>\n",
       "      <th>3</th>\n",
       "      <td>2018-12-13</td>\n",
       "      <td>0.17</td>\n",
       "    </tr>\n",
       "    <tr>\n",
       "      <th>4</th>\n",
       "      <td>2018-12-14</td>\n",
       "      <td>0.13</td>\n",
       "    </tr>\n",
       "    <tr>\n",
       "      <th>5</th>\n",
       "      <td>2018-12-15</td>\n",
       "      <td>0.11</td>\n",
       "    </tr>\n",
       "    <tr>\n",
       "      <th>6</th>\n",
       "      <td>2018-12-16</td>\n",
       "      <td>0.24</td>\n",
       "    </tr>\n",
       "    <tr>\n",
       "      <th>7</th>\n",
       "      <td>2018-12-17</td>\n",
       "      <td>0.13</td>\n",
       "    </tr>\n",
       "    <tr>\n",
       "      <th>8</th>\n",
       "      <td>2018-12-18</td>\n",
       "      <td>0.30</td>\n",
       "    </tr>\n",
       "    <tr>\n",
       "      <th>9</th>\n",
       "      <td>2018-12-19</td>\n",
       "      <td>0.14</td>\n",
       "    </tr>\n",
       "    <tr>\n",
       "      <th>10</th>\n",
       "      <td>2018-12-20</td>\n",
       "      <td>0.19</td>\n",
       "    </tr>\n",
       "    <tr>\n",
       "      <th>11</th>\n",
       "      <td>2018-12-21</td>\n",
       "      <td>0.12</td>\n",
       "    </tr>\n",
       "    <tr>\n",
       "      <th>12</th>\n",
       "      <td>2018-12-22</td>\n",
       "      <td>0.12</td>\n",
       "    </tr>\n",
       "    <tr>\n",
       "      <th>13</th>\n",
       "      <td>2018-12-23</td>\n",
       "      <td>0.12</td>\n",
       "    </tr>\n",
       "    <tr>\n",
       "      <th>14</th>\n",
       "      <td>2018-12-24</td>\n",
       "      <td>0.12</td>\n",
       "    </tr>\n",
       "  </tbody>\n",
       "</table>\n",
       "</div>"
      ],
      "text/plain": [
       "         date  predictions\n",
       "0  2018-12-10         0.26\n",
       "1  2018-12-11         0.14\n",
       "2  2018-12-12         0.08\n",
       "3  2018-12-13         0.17\n",
       "4  2018-12-14         0.13\n",
       "5  2018-12-15         0.11\n",
       "6  2018-12-16         0.24\n",
       "7  2018-12-17         0.13\n",
       "8  2018-12-18         0.30\n",
       "9  2018-12-19         0.14\n",
       "10 2018-12-20         0.19\n",
       "11 2018-12-21         0.12\n",
       "12 2018-12-22         0.12\n",
       "13 2018-12-23         0.12\n",
       "14 2018-12-24         0.12"
      ]
     },
     "execution_count": 164,
     "metadata": {},
     "output_type": "execute_result"
    }
   ],
   "source": [
    "output"
   ]
  },
  {
   "cell_type": "code",
   "execution_count": 165,
   "metadata": {},
   "outputs": [],
   "source": [
    "output['date'] = output.date.dt.strftime(\"%a %b %d\")"
   ]
  },
  {
   "cell_type": "code",
   "execution_count": 166,
   "metadata": {},
   "outputs": [
    {
     "data": {
      "text/html": [
       "<div>\n",
       "<style scoped>\n",
       "    .dataframe tbody tr th:only-of-type {\n",
       "        vertical-align: middle;\n",
       "    }\n",
       "\n",
       "    .dataframe tbody tr th {\n",
       "        vertical-align: top;\n",
       "    }\n",
       "\n",
       "    .dataframe thead th {\n",
       "        text-align: right;\n",
       "    }\n",
       "</style>\n",
       "<table border=\"1\" class=\"dataframe\">\n",
       "  <thead>\n",
       "    <tr style=\"text-align: right;\">\n",
       "      <th></th>\n",
       "      <th>date</th>\n",
       "      <th>predictions</th>\n",
       "    </tr>\n",
       "  </thead>\n",
       "  <tbody>\n",
       "    <tr>\n",
       "      <th>0</th>\n",
       "      <td>Mon Dec 10</td>\n",
       "      <td>0.26</td>\n",
       "    </tr>\n",
       "    <tr>\n",
       "      <th>1</th>\n",
       "      <td>Tue Dec 11</td>\n",
       "      <td>0.14</td>\n",
       "    </tr>\n",
       "    <tr>\n",
       "      <th>2</th>\n",
       "      <td>Wed Dec 12</td>\n",
       "      <td>0.08</td>\n",
       "    </tr>\n",
       "    <tr>\n",
       "      <th>3</th>\n",
       "      <td>Thu Dec 13</td>\n",
       "      <td>0.17</td>\n",
       "    </tr>\n",
       "    <tr>\n",
       "      <th>4</th>\n",
       "      <td>Fri Dec 14</td>\n",
       "      <td>0.13</td>\n",
       "    </tr>\n",
       "    <tr>\n",
       "      <th>5</th>\n",
       "      <td>Sat Dec 15</td>\n",
       "      <td>0.11</td>\n",
       "    </tr>\n",
       "    <tr>\n",
       "      <th>6</th>\n",
       "      <td>Sun Dec 16</td>\n",
       "      <td>0.24</td>\n",
       "    </tr>\n",
       "    <tr>\n",
       "      <th>7</th>\n",
       "      <td>Mon Dec 17</td>\n",
       "      <td>0.13</td>\n",
       "    </tr>\n",
       "    <tr>\n",
       "      <th>8</th>\n",
       "      <td>Tue Dec 18</td>\n",
       "      <td>0.30</td>\n",
       "    </tr>\n",
       "    <tr>\n",
       "      <th>9</th>\n",
       "      <td>Wed Dec 19</td>\n",
       "      <td>0.14</td>\n",
       "    </tr>\n",
       "    <tr>\n",
       "      <th>10</th>\n",
       "      <td>Thu Dec 20</td>\n",
       "      <td>0.19</td>\n",
       "    </tr>\n",
       "    <tr>\n",
       "      <th>11</th>\n",
       "      <td>Fri Dec 21</td>\n",
       "      <td>0.12</td>\n",
       "    </tr>\n",
       "    <tr>\n",
       "      <th>12</th>\n",
       "      <td>Sat Dec 22</td>\n",
       "      <td>0.12</td>\n",
       "    </tr>\n",
       "    <tr>\n",
       "      <th>13</th>\n",
       "      <td>Sun Dec 23</td>\n",
       "      <td>0.12</td>\n",
       "    </tr>\n",
       "    <tr>\n",
       "      <th>14</th>\n",
       "      <td>Mon Dec 24</td>\n",
       "      <td>0.12</td>\n",
       "    </tr>\n",
       "  </tbody>\n",
       "</table>\n",
       "</div>"
      ],
      "text/plain": [
       "          date  predictions\n",
       "0   Mon Dec 10         0.26\n",
       "1   Tue Dec 11         0.14\n",
       "2   Wed Dec 12         0.08\n",
       "3   Thu Dec 13         0.17\n",
       "4   Fri Dec 14         0.13\n",
       "5   Sat Dec 15         0.11\n",
       "6   Sun Dec 16         0.24\n",
       "7   Mon Dec 17         0.13\n",
       "8   Tue Dec 18         0.30\n",
       "9   Wed Dec 19         0.14\n",
       "10  Thu Dec 20         0.19\n",
       "11  Fri Dec 21         0.12\n",
       "12  Sat Dec 22         0.12\n",
       "13  Sun Dec 23         0.12\n",
       "14  Mon Dec 24         0.12"
      ]
     },
     "execution_count": 166,
     "metadata": {},
     "output_type": "execute_result"
    }
   ],
   "source": [
    "output"
   ]
  },
  {
   "cell_type": "code",
   "execution_count": 167,
   "metadata": {},
   "outputs": [
    {
     "data": {
      "image/png": "[encoded data removed]",
      "text/plain": [
       "<Figure size 1080x720 with 1 Axes>"
      ]
     },
     "metadata": {},
     "output_type": "display_data"
    }
   ],
   "source": [
    "import matplotlib.pyplot as plt\n",
    "ax = output[['predictions']].plot(kind='bar', title =\"Probabilities\", figsize=(15, 10), legend=True, fontsize=12)\n",
    "ax.set_xlabel(\"Date\", fontsize=12)\n",
    "ax.set_ylabel(\"Probabilities\", fontsize=12)\n",
    "ax.set_xticklabels(output['date'], rotation='vertical')\n",
    "plt.show()"
   ]
  },
  {
   "cell_type": "code",
   "execution_count": 123,
   "metadata": {
    "collapsed": true
   },
   "outputs": [],
   "source": [
    "def create_figure():\n",
    "    '''Create bar chart to display a visual representation of predicted probabilities'''\n",
    "    fig = Figure()\n",
    "    axis = fig.subplots()\n",
    "    xs = output.date\n",
    "    ys = output.predictions\n",
    "    axis.set_xlabel(\"Date\", fontsize=12)\n",
    "    axis.set_ylabel(\"Probabilities\", fontsize=12)\n",
    "    axis.set_xticklabels(output['date'], rotation='vertical')\n",
    "    axis.plot(xs, ys)\n",
    "    return fig"
   ]
  },
  {
   "cell_type": "code",
   "execution_count": 124,
   "metadata": {},
   "outputs": [],
   "source": [
    "fig = create_figure()"
   ]
  },
  {
   "cell_type": "code",
   "execution_count": 132,
   "metadata": {},
   "outputs": [],
   "source": [
    "def build_plot():\n",
    "    '''Create bar chart to display a visual representation of predicted probabilities'''\n",
    "    ax = output[['predictions']].plot(kind='bar', title =\"Probabilities\", figsize=(15, 10), legend=True, fontsize=12)\n",
    "    ax.set_xlabel(\"Date\", fontsize=12)\n",
    "    ax.set_ylabel(\"Probabilities\", fontsize=12)\n",
    "    ax.set_xticklabels(output['date'], rotation='vertical')\n",
    "    fig = ax.get_figure()\n",
    "    html_graph = mpld3.fig_to_html(fig)\n",
    "    return html_graph"
   ]
  },
  {
   "cell_type": "code",
   "execution_count": 138,
   "metadata": {},
   "outputs": [],
   "source": [
    "fig = plt.figure()\n",
    "ax = output[['predictions']].plot(kind='bar', title =\"Probabilities\", figsize=(15, 10), legend=True, fontsize=12)\n",
    "ax.set_xlabel(\"Date\", fontsize=12)\n",
    "ax.set_ylabel(\"Probabilities\", fontsize=12)\n",
    "ax.set_xticklabels(output['date'], rotation='vertical')\n",
    "plt.savefig('static/images/graph')"
   ]
  },
  {
   "cell_type": "code",
   "execution_count": null,
   "metadata": {
    "collapsed": true
   },
   "outputs": [],
   "source": []
  }
 ],
 "metadata": {
  "kernelspec": {
   "display_name": "Python 3",
   "language": "python",
   "name": "python3"
  },
  "language_info": {
   "codemirror_mode": {
    "name": "ipython",
    "version": 3
   },
   "file_extension": ".py",
   "mimetype": "text/x-python",
   "name": "python",
   "nbconvert_exporter": "python",
   "pygments_lexer": "ipython3",
   "version": "3.6.2"
  }
 },
 "nbformat": 4,
 "nbformat_minor": 2
}
